{
 "cells": [
  {
   "cell_type": "markdown",
   "metadata": {},
   "source": [
    "# Typehint"
   ]
  },
  {
   "cell_type": "code",
   "execution_count": null,
   "metadata": {},
   "outputs": [],
   "source": [
    "from dataclasses import dataclass\n",
    "from typing import (  # noqa: F401\n",
    "    Collection,\n",
    "    Container,\n",
    "    Generator,\n",
    "    Generic,\n",
    "    Iterable,\n",
    "    Iterator,\n",
    "    Sequence,\n",
    "    Callable,\n",
    "    TypeVar,\n",
    "    Any,\n",
    "    ParamSpec,\n",
    ")\n",
    "\n",
    "T = TypeVar(\"T\")"
   ]
  },
  {
   "cell_type": "markdown",
   "metadata": {},
   "source": [
    "## Question 1\n",
    "\n",
    "Proposez un typehint pour le code suivant ?"
   ]
  },
  {
   "cell_type": "code",
   "execution_count": null,
   "metadata": {},
   "outputs": [],
   "source": [
    "def is_in(x: T, L: Container[T]):\n",
    "    \"\"\"Check if x is in L.\"\"\"\n",
    "    return x in L\n",
    "\n",
    "\n",
    "def neighbors(x: int) -> Iterator[int]:\n",
    "    \"\"\"Yield the neighbors of an integer x.\"\"\"\n",
    "    yield x - 1\n",
    "    yield x + 1\n",
    "\n",
    "\n",
    "@dataclass\n",
    "class Result(Generic[T]):\n",
    "    \"\"\"A not so useful dataclass.\"\"\"\n",
    "\n",
    "    result: T"
   ]
  },
  {
   "cell_type": "markdown",
   "metadata": {},
   "source": [
    "## Question 2\n",
    "\n",
    "Explain the code belowm and add typehint. What will `identity(2)` return ?"
   ]
  },
  {
   "cell_type": "code",
   "execution_count": null,
   "metadata": {},
   "outputs": [],
   "source": [
    "P = ParamSpec(\"P\")\n",
    "\n",
    "def pack(f: Callable[P, T]) -> Callable[P, Result[T]]:\n",
    "    def _pack(*args: P.args, **kwargs: P.kwargs) -> Result[T]:\n",
    "        return Result(f(*args, **kwargs))\n",
    "\n",
    "    return _pack\n",
    "\n",
    "@pack\n",
    "def identity(x: T) -> T:\n",
    "    return x\n",
    "\n",
    "# identity(2) renvoie Result(2)"
   ]
  }
 ],
 "metadata": {
  "kernelspec": {
   "display_name": ".venv",
   "language": "python",
   "name": "python3"
  },
  "language_info": {
   "codemirror_mode": {
    "name": "ipython",
    "version": 3
   },
   "file_extension": ".py",
   "mimetype": "text/x-python",
   "name": "python",
   "nbconvert_exporter": "python",
   "pygments_lexer": "ipython3",
   "version": "3.12.5"
  }
 },
 "nbformat": 4,
 "nbformat_minor": 2
}
