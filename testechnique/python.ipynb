{
 "cells": [
  {
   "cell_type": "code",
   "execution_count": 1,
   "metadata": {},
   "outputs": [],
   "source": [
    "import random"
   ]
  },
  {
   "cell_type": "markdown",
   "metadata": {},
   "source": [
    "## Question 1\n",
    "\n",
    "Écrire une fonction (typée) qui renvoie la factorielle d'un nombre."
   ]
  },
  {
   "cell_type": "code",
   "execution_count": 2,
   "metadata": {},
   "outputs": [],
   "source": [
    "def fact(n: ...) -> ...:\n",
    "    ..."
   ]
  },
  {
   "cell_type": "markdown",
   "metadata": {},
   "source": [
    "## Question 2"
   ]
  },
  {
   "cell_type": "code",
   "execution_count": 3,
   "metadata": {},
   "outputs": [
    {
     "ename": "AssertionError",
     "evalue": "",
     "output_type": "error",
     "traceback": [
      "\u001b[31m---------------------------------------------------------------------------\u001b[39m",
      "\u001b[31mAssertionError\u001b[39m                            Traceback (most recent call last)",
      "\u001b[36mCell\u001b[39m\u001b[36m \u001b[39m\u001b[32mIn[3]\u001b[39m\u001b[32m, line 6\u001b[39m\n\u001b[32m      2\u001b[39m b = [\u001b[33m\"\u001b[39m\u001b[33ma\u001b[39m\u001b[33m\"\u001b[39m, \u001b[33m\"\u001b[39m\u001b[33mb\u001b[39m\u001b[33m\"\u001b[39m, \u001b[33m\"\u001b[39m\u001b[33mc\u001b[39m\u001b[33m\"\u001b[39m, \u001b[33m\"\u001b[39m\u001b[33md\u001b[39m\u001b[33m\"\u001b[39m, \u001b[33m\"\u001b[39m\u001b[33me\u001b[39m\u001b[33m\"\u001b[39m, \u001b[33m\"\u001b[39m\u001b[33mf\u001b[39m\u001b[33m\"\u001b[39m]\n\u001b[32m      4\u001b[39m output = ...\n\u001b[32m----> \u001b[39m\u001b[32m6\u001b[39m \u001b[38;5;28;01massert\u001b[39;00m output == [(\u001b[32m1\u001b[39m, \u001b[33m\"\u001b[39m\u001b[33ma\u001b[39m\u001b[33m\"\u001b[39m), (\u001b[32m2\u001b[39m, \u001b[33m\"\u001b[39m\u001b[33mb\u001b[39m\u001b[33m\"\u001b[39m), (\u001b[32m3\u001b[39m, \u001b[33m\"\u001b[39m\u001b[33mc\u001b[39m\u001b[33m\"\u001b[39m), (\u001b[32m4\u001b[39m, \u001b[33m\"\u001b[39m\u001b[33md\u001b[39m\u001b[33m\"\u001b[39m), (\u001b[32m5\u001b[39m, \u001b[33m\"\u001b[39m\u001b[33me\u001b[39m\u001b[33m\"\u001b[39m)]\n",
      "\u001b[31mAssertionError\u001b[39m: "
     ]
    }
   ],
   "source": [
    "a = [1, 2, 3, 4, 5]\n",
    "b = [\"a\", \"b\", \"c\", \"d\", \"e\", \"f\"]\n",
    "\n",
    "output = ...\n",
    "\n",
    "assert output == [(1, \"a\"), (2, \"b\"), (3, \"c\"), (4, \"d\"), (5, \"e\")]"
   ]
  },
  {
   "cell_type": "markdown",
   "metadata": {},
   "source": [
    "## Question 3\n",
    "\n",
    "À quoi correspondents les opérations suivantes ?"
   ]
  },
  {
   "cell_type": "code",
   "execution_count": null,
   "metadata": {},
   "outputs": [],
   "source": [
    "a = {random.randint(0, 100) for _ in range(50)}\n",
    "b = {random.randint(0, 100) for _ in range(50)}\n",
    "\n",
    "print(a ^ b)\n",
    "print(a | b)\n",
    "print(a - b)"
   ]
  },
  {
   "cell_type": "markdown",
   "metadata": {},
   "source": [
    "## Question 4\n",
    "\n",
    "Écrire une fonction qui renvoie l'incide minimal où une sous-chaine est trouvée dans une chaine (la fonction renverra None si jamais aucune sous-chaine n'est trouvée)."
   ]
  },
  {
   "cell_type": "code",
   "execution_count": null,
   "metadata": {},
   "outputs": [],
   "source": [
    "def find_subchain(subchain: ..., chain: ...) -> ...:\n",
    "    ...\n",
    "\n",
    "\n",
    "assert find_subchain(\"lazy\", \"The quick brown fox jumps over the lazy dog\") == 35\n",
    "assert find_subchain(\"word\", \"Hello world!\") is None"
   ]
  },
  {
   "cell_type": "markdown",
   "metadata": {},
   "source": [
    "## Question 5\n",
    "\n",
    "Écrire une fonction qui renvoie les diviseurs d'un entier naturel `n` sous la forme d'itérateur (on ne modifiera pas la signature de la fonction.)"
   ]
  },
  {
   "cell_type": "code",
   "execution_count": null,
   "metadata": {},
   "outputs": [],
   "source": [
    "from typing import Iterator\n",
    "\n",
    "def divisors(n: int) -> Iterator[int]:\n",
    "    ..."
   ]
  },
  {
   "cell_type": "markdown",
   "metadata": {},
   "source": [
    "## Question 6\n",
    "\n",
    "Lire et afficher le fichier `json.json` du dossier `resources`."
   ]
  },
  {
   "cell_type": "code",
   "execution_count": null,
   "metadata": {},
   "outputs": [],
   "source": [
    "from pathlib import Path\n",
    "import json\n",
    "\n",
    "..."
   ]
  },
  {
   "cell_type": "markdown",
   "metadata": {},
   "source": [
    "## Question 7\n",
    "\n",
    "Étant donné un itérable, trouver l'élément le plus fréquent."
   ]
  },
  {
   "cell_type": "code",
   "execution_count": null,
   "metadata": {},
   "outputs": [],
   "source": [
    "from typing import Iterable, TypeVar, Hashable\n",
    "# from collections import ???  # Un object built-in pytohn facilite grandmeent l'exercice\n",
    "\n",
    "T = TypeVar(\"T\", bound=Hashable)\n",
    "\n",
    "def find_most(x: Iterable[T]) -> T:\n",
    "    ...\n",
    "\n",
    "assert find_most((1, 2, 3, 1, 2, 3, 1, 2, 3, 1, 2, 3, 3)) == 3\n",
    "assert find_most((\"str\", None, \"str\", 23, \"str\", None, None)) in (None, \"str\")"
   ]
  },
  {
   "cell_type": "markdown",
   "metadata": {},
   "source": [
    "## Question 8\n",
    "\n",
    "Étant donné un itérable $(x_i)$ et une fonction booléenne, renvoie False si et seulement si tous les $f(x_i)$ sont faux."
   ]
  },
  {
   "cell_type": "code",
   "execution_count": null,
   "metadata": {},
   "outputs": [],
   "source": [
    "from typing import Callable\n",
    "\n",
    "T = TypeVar(\"T\")\n",
    "\n",
    "def all_false(f: Callable[[T], bool], L: Iterable[T]) -> bool:\n",
    "    ...\n",
    "\n",
    "assert all_false(lambda x: (x%2==0), (1, 2, 3, 4, 5, 6)) is True\n",
    "assert all_false(lambda x: (x%2==0), (1, 3, 5, 7, 9)) is False"
   ]
  },
  {
   "cell_type": "markdown",
   "metadata": {},
   "source": [
    "## Question 9\n",
    "\n",
    "Étant donné le code ci dessous, quelle sont les valuers stockées dans x et y ? Comment palier au problème ?"
   ]
  },
  {
   "cell_type": "code",
   "execution_count": 4,
   "metadata": {},
   "outputs": [],
   "source": [
    "def f(x: list[int]) -> list[int]:\n",
    "    x.append(5)\n",
    "    return x\n",
    "\n",
    "\n",
    "x = [1, 2, 3]\n",
    "y = f(x)"
   ]
  },
  {
   "cell_type": "markdown",
   "metadata": {},
   "source": [
    "## Question 10\n",
    "\n",
    "Que renvoie `f(5)`. Quel est le problème avec cette implémentation ? Proposez ue solution."
   ]
  },
  {
   "cell_type": "code",
   "execution_count": null,
   "metadata": {},
   "outputs": [
    {
     "data": {
      "text/plain": [
       "5"
      ]
     },
     "execution_count": 5,
     "metadata": {},
     "output_type": "execute_result"
    }
   ],
   "source": [
    "def foo(n):\n",
    "    if n <= 1:\n",
    "        return n\n",
    "    return foo(n - 1) + foo(n - 2)"
   ]
  }
 ],
 "metadata": {
  "kernelspec": {
   "display_name": ".venv",
   "language": "python",
   "name": "python3"
  },
  "language_info": {
   "codemirror_mode": {
    "name": "ipython",
    "version": 3
   },
   "file_extension": ".py",
   "mimetype": "text/x-python",
   "name": "python",
   "nbconvert_exporter": "python",
   "pygments_lexer": "ipython3",
   "version": "3.12.5"
  }
 },
 "nbformat": 4,
 "nbformat_minor": 2
}
