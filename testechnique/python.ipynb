{
 "cells": [
  {
   "cell_type": "markdown",
   "metadata": {},
   "source": [
    "## Question 1\n",
    "\n",
    "Écrire une fonction (typée) qui renvoie la factorielle d'un nombre."
   ]
  },
  {
   "cell_type": "code",
   "execution_count": 5,
   "metadata": {},
   "outputs": [],
   "source": [
    "def fact(n: int) -> int:\n",
    "    if n == 0:\n",
    "        return 1\n",
    "    return n * fact(n - 1)\n",
    "\n",
    "\n",
    "assert fact(10) == 3628800\n",
    "assert fact(5) == 120"
   ]
  },
  {
   "cell_type": "code",
   "execution_count": 8,
   "metadata": {},
   "outputs": [],
   "source": [
    "from functools import reduce\n",
    "from operator import mul\n",
    "\n",
    "def fact(n: int) -> int:\n",
    "    return reduce(mul, range(1, n+1), 1)\n",
    "\n",
    "\n",
    "assert fact(10) == 3628800\n",
    "assert fact(5) == 120"
   ]
  },
  {
   "cell_type": "markdown",
   "metadata": {},
   "source": [
    "## Question 2"
   ]
  },
  {
   "cell_type": "code",
   "execution_count": 9,
   "metadata": {},
   "outputs": [],
   "source": [
    "a = [1, 2, 3, 4, 5]\n",
    "b = [\"a\", \"b\", \"c\", \"d\", \"e\", \"f\"]\n",
    "\n",
    "output = zip(a, b)\n",
    "\n",
    "assert list(output) == [(1, \"a\"), (2, \"b\"), (3, \"c\"), (4, \"d\"), (5, \"e\")]"
   ]
  },
  {
   "cell_type": "markdown",
   "metadata": {},
   "source": [
    "## Question 3\n",
    "\n",
    "À quoi correspondent les opérations suivantes ?"
   ]
  },
  {
   "cell_type": "code",
   "execution_count": 12,
   "metadata": {},
   "outputs": [
    {
     "name": "stdout",
     "output_type": "stream",
     "text": [
      "{33, 98, 99, 38, 40, 73, 77, 46, 17, 18, 84, 54, 56, 26, 62, 95}\n",
      "{0, 1, 2, 3, 5, 9, 10, 11, 12, 15, 16, 17, 18, 20, 21, 24, 25, 26, 27, 29, 30, 33, 34, 36, 37, 38, 39, 40, 43, 44, 45, 46, 47, 48, 50, 51, 54, 56, 62, 63, 64, 65, 67, 69, 71, 72, 73, 75, 77, 78, 79, 80, 81, 83, 84, 85, 90, 91, 93, 94, 95, 97, 98, 99, 100}\n",
      "{0, 1, 2, 5, 10, 20, 21, 27, 29, 36, 37, 39, 44, 45, 63, 71, 75, 78, 81, 85, 90, 94, 97, 100}\n",
      "{0, 1, 2, 3, 5, 9, 10, 11, 12, 15, 16, 20, 21, 24, 25, 27, 29, 30, 34, 36, 37, 39, 43, 44, 45, 47, 48, 50, 51, 63, 64, 65, 67, 69, 71, 72, 75, 78, 79, 80, 81, 83, 85, 90, 91, 93, 94, 97, 100}\n"
     ]
    }
   ],
   "source": [
    "import random\n",
    "\n",
    "a = {random.randint(0, 100) for _ in range(50)}\n",
    "b = {random.randint(0, 100) for _ in range(50)}\n",
    "\n",
    "print(a & b)  # Intersection\n",
    "print(a | b)  # Union\n",
    "print(a - b)  # Différence\n",
    "print(a ^ b)  # Différence symmétrique"
   ]
  },
  {
   "cell_type": "markdown",
   "metadata": {},
   "source": [
    "## Question 4\n",
    "\n",
    "Écrire une fonction qui renvoie l'indice minimal où une sous-chaine est trouvée dans une chaine (la fonction renverra None si jamais aucune sous-chaine n'est trouvée)."
   ]
  },
  {
   "cell_type": "code",
   "execution_count": null,
   "metadata": {},
   "outputs": [],
   "source": [
    "def find_subchain(subchain: str, chain: str) -> int | None:\n",
    "    subchain_length = len(subchain)\n",
    "    for idx in range(len(chain) - subchain_length + 1):\n",
    "        if chain[idx: idx + subchain_length] == subchain:\n",
    "            return idx\n",
    "    return None\n",
    "\n",
    "\n",
    "assert find_subchain(\"lazy\", \"The quick brown fox jumps over the lazy dog\") == 35\n",
    "assert find_subchain(\"!\", \"Hello world!\") == 11\n",
    "assert find_subchain(\"word\", \"Hello world!\") is None"
   ]
  },
  {
   "cell_type": "markdown",
   "metadata": {},
   "source": [
    "## Question 5\n",
    "\n",
    "Écrire une fonction qui renvoie les diviseurs (positifs) d'un entier naturel `n` sous la forme d'itérateur (on ne modifiera pas la signature de la fonction.)"
   ]
  },
  {
   "cell_type": "code",
   "execution_count": 17,
   "metadata": {},
   "outputs": [],
   "source": [
    "from typing import Iterator\n",
    "\n",
    "\n",
    "def divisors(n: int) -> Iterator[int]:\n",
    "    for d in range(1, n + 1):\n",
    "        if n % d == 0:\n",
    "            yield d\n",
    "\n",
    "\n",
    "assert set(divisors(7)) == {1, 7}\n",
    "assert set(divisors(10)) == {1, 2, 5, 10}\n",
    "assert set(divisors(60)) == {1, 2, 3, 4, 5, 6, 10, 12, 15, 20, 30, 60}"
   ]
  },
  {
   "cell_type": "markdown",
   "metadata": {},
   "source": [
    "## Question 6\n",
    "\n",
    "Lire et afficher le fichier `json.json` du dossier `resources`."
   ]
  },
  {
   "cell_type": "code",
   "execution_count": 22,
   "metadata": {},
   "outputs": [
    {
     "name": "stdout",
     "output_type": "stream",
     "text": [
      "{'name': 'file', 'data': ['this', 'is', 'a', 'json', 'file']}\n"
     ]
    }
   ],
   "source": [
    "from pathlib import Path\n",
    "import json\n",
    "\n",
    "import os\n",
    "\n",
    "with Path(\"../resources/json.json\").open() as f:\n",
    "    data = json.load(f)\n",
    "\n",
    "print(data)"
   ]
  },
  {
   "cell_type": "markdown",
   "metadata": {},
   "source": [
    "## Question 7\n",
    "\n",
    "Étant donné un itérable, trouver l'élément le plus fréquent."
   ]
  },
  {
   "cell_type": "code",
   "execution_count": null,
   "metadata": {},
   "outputs": [],
   "source": [
    "from typing import Iterable, TypeVar, Hashable\n",
    "\n",
    "T = TypeVar(\"T\", bound=Hashable)\n",
    "\n",
    "\n",
    "from collections import Counter, defaultdict\n",
    "\n",
    "# Prop 1\n",
    "def find_most(x: Iterable[T]) -> T:\n",
    "    cnt = Counter(x)\n",
    "    return max(cnt.items(), key=lambda x: x[1])[0]\n",
    "\n",
    "\n",
    "# Prop 2\n",
    "def find_most(x: Iterable[T]) -> T:\n",
    "    cnt = defaultdict(lambda: 0)\n",
    "    for item in x:\n",
    "        cnt[item] += 1\n",
    "    return max(cnt.items(), key=lambda x: x[1])[0]\n",
    "\n",
    "\n",
    "# Prop 3\n",
    "def find_most(x: Iterable[T]) -> T:\n",
    "    cnt = {}\n",
    "    for item in x:\n",
    "        if item not in cnt:\n",
    "            cnt[item] = 0\n",
    "        cnt[item] += 1\n",
    "    return max(cnt.items(), key=lambda x: x[1])[0]\n",
    "\n",
    "\n",
    "assert find_most((1, 2, 3, 1, 2, 3, 1, 2, 3, 1, 2, 3, 3)) == 3\n",
    "assert find_most((\"str\", None, \"str\", 23, \"str\", None, None)) in (None, \"str\")"
   ]
  },
  {
   "cell_type": "markdown",
   "metadata": {},
   "source": [
    "## Question 8\n",
    "\n",
    "Étant donné un itérable $(x_i)$ et une fonction booléenne $f$, renvoie True si et seulement si tous les $f(x_i)$ sont False et True sinon."
   ]
  },
  {
   "cell_type": "code",
   "execution_count": 26,
   "metadata": {},
   "outputs": [],
   "source": [
    "from typing import Callable, TypeVar, Iterable\n",
    "\n",
    "T = TypeVar(\"T\")\n",
    "\n",
    "\n",
    "def all_false(f: Callable[[T], bool], L: Iterable[T]) -> bool:\n",
    "    return not any(map(f, L))\n",
    "\n",
    "\n",
    "assert all_false(lambda x: (x % 2 == 0), (1, 2, 3, 4, 5, 6)) is False\n",
    "assert all_false(lambda x: (x % 2 == 0), (1, 3, 5, 7, 9)) is True"
   ]
  },
  {
   "cell_type": "markdown",
   "metadata": {},
   "source": [
    "## Question 9\n",
    "\n",
    "Étant donné le code ci dessous, quelle sont les valuers stockées dans x et y ? Comment palier au problème ?"
   ]
  },
  {
   "cell_type": "code",
   "execution_count": null,
   "metadata": {},
   "outputs": [],
   "source": [
    "def f(x: list[int]) -> list[int]:\n",
    "    x.append(5)\n",
    "    return x\n",
    "\n",
    "\n",
    "x = [1, 2, 3]\n",
    "y = f(x)\n",
    "\n",
    "# Mutabilité --> x contient les meme valeurs que y\n",
    "\n",
    "# Solution --> faire une copie OU utiliser un tuple"
   ]
  },
  {
   "cell_type": "markdown",
   "metadata": {},
   "source": [
    "## Question 10\n",
    "\n",
    "Que renvoie `f(5)`. Quel est le problème avec cette implémentation ? Proposez une solution."
   ]
  },
  {
   "cell_type": "code",
   "execution_count": null,
   "metadata": {},
   "outputs": [
    {
     "name": "stdout",
     "output_type": "stream",
     "text": [
      "354224848179261915075\n"
     ]
    }
   ],
   "source": [
    "# Solution 1 (Memoization built in)\n",
    "\n",
    "from functools import cache\n",
    "\n",
    "\n",
    "@cache\n",
    "def foo(n):\n",
    "    if n <= 1:\n",
    "        return n\n",
    "    return foo(n - 1) + foo(n - 2)\n",
    "\n",
    "\n",
    "# Solution 2 (Memoization à la mano)\n",
    "\n",
    "\n",
    "def foo(n):\n",
    "    results = [None] * (n + 1)\n",
    "    results[0] = 0\n",
    "    results[1] = 1\n",
    "\n",
    "    def _foo(n):\n",
    "        if results[n] is None:\n",
    "            results[n] = _foo(n - 1) + _foo(n - 2)\n",
    "        return results[n]\n",
    "\n",
    "    return _foo(n)"
   ]
  }
 ],
 "metadata": {
  "kernelspec": {
   "display_name": ".venv",
   "language": "python",
   "name": "python3"
  },
  "language_info": {
   "codemirror_mode": {
    "name": "ipython",
    "version": 3
   },
   "file_extension": ".py",
   "mimetype": "text/x-python",
   "name": "python",
   "nbconvert_exporter": "python",
   "pygments_lexer": "ipython3",
   "version": "3.10.11"
  }
 },
 "nbformat": 4,
 "nbformat_minor": 2
}
